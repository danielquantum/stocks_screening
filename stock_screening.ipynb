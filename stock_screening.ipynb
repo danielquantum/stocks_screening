{
 "cells": [
  {
   "cell_type": "markdown",
   "id": "eb15177b",
   "metadata": {},
   "source": [
    "# Stocks Screening\n",
    "A Python script to monitor stock performance by comparing the current market price against predefined base and support levels."
   ]
  },
  {
   "cell_type": "code",
   "execution_count": 1,
   "id": "9a6cb880",
   "metadata": {},
   "outputs": [],
   "source": [
    "import yfinance as yf\n",
    "import pandas as pd"
   ]
  },
  {
   "cell_type": "code",
   "execution_count": 2,
   "id": "18a83f3e",
   "metadata": {},
   "outputs": [],
   "source": [
    "def analyze_stocks(list_A, base_A, support_A):\n",
    "    # Download last closing prices\n",
    "    data = yf.download(list_A, period=\"1d\", progress=False)\n",
    "    closing = data['Close'].iloc[-1]\n",
    "\n",
    "    # Ensure correct order of closing prices\n",
    "    last_A = [closing[ticker] for ticker in list_A]\n",
    "\n",
    "    # Create DataFrame\n",
    "    stocks_A = pd.DataFrame({\n",
    "        'Stock': list_A,\n",
    "        'Base': base_A,\n",
    "        'Support': support_A,\n",
    "        'Last Price': last_A})\n",
    "    \n",
    "    stocks_A['Change from Base (%)'] = (stocks_A['Last Price'] - stocks_A['Base'])/stocks_A['Base']*100\n",
    "    stocks_A['Change from Support (%)'] = (stocks_A['Last Price'] - stocks_A['Support'])/stocks_A['Support']*100\n",
    "\n",
    "    # Styling function\n",
    "    def color_change(val):\n",
    "        color = 'green' if val > 0 else 'red'\n",
    "        return f'color: {color}'\n",
    "\n",
    "    # Return styled DataFrame\n",
    "    styled_stocks_A = stocks_A.style \\\n",
    "        .map(color_change, subset=['Change from Base (%)', 'Change from Support (%)']) \\\n",
    "        .format({\n",
    "            'Last Price': '{:.0f}',\n",
    "            'Change from Base (%)': '{:.2f}',\n",
    "            'Change from Support (%)': '{:.2f}'})\n",
    "    return styled_stocks_A"
   ]
  },
  {
   "cell_type": "code",
   "execution_count": 4,
   "id": "916070c2",
   "metadata": {},
   "outputs": [],
   "source": [
    "def analyze_stocks_realtime(list_A, base_A, support_A):\n",
    "    # Get realtime prices using .fast_info['lastPrice']\n",
    "    last_A = []\n",
    "    for ticker in list_A:\n",
    "        try:\n",
    "            stock = yf.Ticker(ticker)\n",
    "            last_price = stock.fast_info['lastPrice']\n",
    "        except Exception:\n",
    "            last_price = None\n",
    "        last_A.append(last_price)\n",
    "\n",
    "    # Create DataFrame\n",
    "    stocks_A = pd.DataFrame({\n",
    "        'Stock': list_A,\n",
    "        'Base': base_A,\n",
    "        'Support': support_A,\n",
    "        'Last': last_A})\n",
    "\n",
    "    # Create DataFrame\n",
    "    stocks_A = pd.DataFrame({\n",
    "        'Stock': list_A,\n",
    "        'Base': base_A,\n",
    "        'Support': support_A,\n",
    "        'Last Price': last_A})\n",
    "    \n",
    "    stocks_A['Change from Base (%)'] = (stocks_A['Last Price'] - stocks_A['Base'])/stocks_A['Base']*100\n",
    "    stocks_A['Change from Support (%)'] = (stocks_A['Last Price'] - stocks_A['Support'])/stocks_A['Support']*100\n",
    "\n",
    "    # Styling function\n",
    "    def color_change(val):\n",
    "        color = 'green' if val > 0 else 'red'\n",
    "        return f'color: {color}'\n",
    "\n",
    "    # Return styled DataFrame\n",
    "    styled_stocks_A = stocks_A.style \\\n",
    "        .map(color_change, subset=['Change from Base (%)', 'Change from Support (%)']) \\\n",
    "        .format({\n",
    "            'Last Price': '{:.0f}',\n",
    "            'Change from Base (%)': '{:.2f}',\n",
    "            'Change from Support (%)': '{:.2f}'})\n",
    "    return styled_stocks_A"
   ]
  },
  {
   "cell_type": "markdown",
   "id": "3ad84909",
   "metadata": {},
   "source": [
    "## Whatchlist A"
   ]
  },
  {
   "cell_type": "code",
   "execution_count": 5,
   "id": "3dff8464",
   "metadata": {},
   "outputs": [
    {
     "data": {
      "text/html": [
       "<style type=\"text/css\">\n",
       "#T_a6bd5_row0_col4, #T_a6bd5_row0_col5, #T_a6bd5_row1_col4, #T_a6bd5_row1_col5, #T_a6bd5_row2_col4, #T_a6bd5_row2_col5, #T_a6bd5_row3_col4, #T_a6bd5_row3_col5 {\n",
       "  color: green;\n",
       "}\n",
       "</style>\n",
       "<table id=\"T_a6bd5\">\n",
       "  <thead>\n",
       "    <tr>\n",
       "      <th class=\"blank level0\" >&nbsp;</th>\n",
       "      <th id=\"T_a6bd5_level0_col0\" class=\"col_heading level0 col0\" >Stock</th>\n",
       "      <th id=\"T_a6bd5_level0_col1\" class=\"col_heading level0 col1\" >Base</th>\n",
       "      <th id=\"T_a6bd5_level0_col2\" class=\"col_heading level0 col2\" >Support</th>\n",
       "      <th id=\"T_a6bd5_level0_col3\" class=\"col_heading level0 col3\" >Last Price</th>\n",
       "      <th id=\"T_a6bd5_level0_col4\" class=\"col_heading level0 col4\" >Change from Base (%)</th>\n",
       "      <th id=\"T_a6bd5_level0_col5\" class=\"col_heading level0 col5\" >Change from Support (%)</th>\n",
       "    </tr>\n",
       "  </thead>\n",
       "  <tbody>\n",
       "    <tr>\n",
       "      <th id=\"T_a6bd5_level0_row0\" class=\"row_heading level0 row0\" >0</th>\n",
       "      <td id=\"T_a6bd5_row0_col0\" class=\"data row0 col0\" >BBCA.JK</td>\n",
       "      <td id=\"T_a6bd5_row0_col1\" class=\"data row0 col1\" >7400</td>\n",
       "      <td id=\"T_a6bd5_row0_col2\" class=\"data row0 col2\" >8300</td>\n",
       "      <td id=\"T_a6bd5_row0_col3\" class=\"data row0 col3\" >8450</td>\n",
       "      <td id=\"T_a6bd5_row0_col4\" class=\"data row0 col4\" >14.19</td>\n",
       "      <td id=\"T_a6bd5_row0_col5\" class=\"data row0 col5\" >1.81</td>\n",
       "    </tr>\n",
       "    <tr>\n",
       "      <th id=\"T_a6bd5_level0_row1\" class=\"row_heading level0 row1\" >1</th>\n",
       "      <td id=\"T_a6bd5_row1_col0\" class=\"data row1 col0\" >BBRI.JK</td>\n",
       "      <td id=\"T_a6bd5_row1_col1\" class=\"data row1 col1\" >3360</td>\n",
       "      <td id=\"T_a6bd5_row1_col2\" class=\"data row1 col2\" >3650</td>\n",
       "      <td id=\"T_a6bd5_row1_col3\" class=\"data row1 col3\" >3880</td>\n",
       "      <td id=\"T_a6bd5_row1_col4\" class=\"data row1 col4\" >15.48</td>\n",
       "      <td id=\"T_a6bd5_row1_col5\" class=\"data row1 col5\" >6.30</td>\n",
       "    </tr>\n",
       "    <tr>\n",
       "      <th id=\"T_a6bd5_level0_row2\" class=\"row_heading level0 row2\" >2</th>\n",
       "      <td id=\"T_a6bd5_row2_col0\" class=\"data row2 col0\" >BMRI.JK</td>\n",
       "      <td id=\"T_a6bd5_row2_col1\" class=\"data row2 col1\" >4350</td>\n",
       "      <td id=\"T_a6bd5_row2_col2\" class=\"data row2 col2\" >4650</td>\n",
       "      <td id=\"T_a6bd5_row2_col3\" class=\"data row2 col3\" >4690</td>\n",
       "      <td id=\"T_a6bd5_row2_col4\" class=\"data row2 col4\" >7.82</td>\n",
       "      <td id=\"T_a6bd5_row2_col5\" class=\"data row2 col5\" >0.86</td>\n",
       "    </tr>\n",
       "    <tr>\n",
       "      <th id=\"T_a6bd5_level0_row3\" class=\"row_heading level0 row3\" >3</th>\n",
       "      <td id=\"T_a6bd5_row3_col0\" class=\"data row3 col0\" >BBNI.JK</td>\n",
       "      <td id=\"T_a6bd5_row3_col1\" class=\"data row3 col1\" >3670</td>\n",
       "      <td id=\"T_a6bd5_row3_col2\" class=\"data row3 col2\" >3950</td>\n",
       "      <td id=\"T_a6bd5_row3_col3\" class=\"data row3 col3\" >4090</td>\n",
       "      <td id=\"T_a6bd5_row3_col4\" class=\"data row3 col4\" >11.44</td>\n",
       "      <td id=\"T_a6bd5_row3_col5\" class=\"data row3 col5\" >3.54</td>\n",
       "    </tr>\n",
       "  </tbody>\n",
       "</table>\n"
      ],
      "text/plain": [
       "<pandas.io.formats.style.Styler at 0x10c7a7890>"
      ]
     },
     "execution_count": 5,
     "metadata": {},
     "output_type": "execute_result"
    }
   ],
   "source": [
    "# Stocks\n",
    "list_A = [\"BBCA.JK\", \"BBRI.JK\", \"BMRI.JK\", \"BBNI.JK\"]\n",
    "base_A = [7400, 3360, 4350, 3670]\n",
    "support_A = [8300, 3650, 4650, 3950]\n",
    "\n",
    "stocks_A = analyze_stocks_realtime(list_A, base_A, support_A)\n",
    "stocks_A"
   ]
  }
 ],
 "metadata": {
  "kernelspec": {
   "display_name": "pacmann",
   "language": "python",
   "name": "python3"
  },
  "language_info": {
   "codemirror_mode": {
    "name": "ipython",
    "version": 3
   },
   "file_extension": ".py",
   "mimetype": "text/x-python",
   "name": "python",
   "nbconvert_exporter": "python",
   "pygments_lexer": "ipython3",
   "version": "3.13.5"
  }
 },
 "nbformat": 4,
 "nbformat_minor": 5
}
