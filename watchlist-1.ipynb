{
 "cells": [
  {
   "cell_type": "markdown",
   "id": "d38d4601",
   "metadata": {},
   "source": [
    "# Whatchlist\n",
    "A Python script to monitor watchlist stocks performance by comparing the current market price against predefined base and support levels."
   ]
  },
  {
   "cell_type": "code",
   "execution_count": 1,
   "id": "15245a2e",
   "metadata": {},
   "outputs": [],
   "source": [
    "import yfinance as yf\n",
    "import pandas as pd"
   ]
  },
  {
   "cell_type": "markdown",
   "id": "0e0a7d21",
   "metadata": {},
   "source": [
    "## Functions"
   ]
  },
  {
   "cell_type": "code",
   "execution_count": 2,
   "id": "1617b220",
   "metadata": {},
   "outputs": [],
   "source": [
    "def analyze_stocks(list_A, base_A, support_A):\n",
    "    # Download last closing prices\n",
    "    data = yf.download(list_A, period=\"1d\", progress=False)\n",
    "    closing = data['Close'].iloc[-1]\n",
    "\n",
    "    # Ensure correct order of closing prices\n",
    "    last_A = [closing[ticker] for ticker in list_A]\n",
    "\n",
    "    # Create DataFrame\n",
    "    stocks_A = pd.DataFrame({\n",
    "        'Stock': list_A,\n",
    "        'Base': base_A,\n",
    "        'Support': support_A,\n",
    "        'Last Price': last_A})\n",
    "    \n",
    "    stocks_A['Change from Base (%)'] = (stocks_A['Last Price'] - stocks_A['Base'])/stocks_A['Base']*100\n",
    "    stocks_A['Change from Support (%)'] = (stocks_A['Last Price'] - stocks_A['Support'])/stocks_A['Support']*100\n",
    "\n",
    "    # Styling function\n",
    "    def color_change(val):\n",
    "        color = 'green' if val > 0 else 'red'\n",
    "        return f'color: {color}'\n",
    "\n",
    "    # Return styled DataFrame\n",
    "    styled_stocks_A = stocks_A.style \\\n",
    "        .map(color_change, subset=['Change from Base (%)', 'Change from Support (%)']) \\\n",
    "        .format({\n",
    "            'Last Price': '{:.0f}',\n",
    "            'Change from Base (%)': '{:.2f}',\n",
    "            'Change from Support (%)': '{:.2f}'})\n",
    "    return styled_stocks_A"
   ]
  },
  {
   "cell_type": "code",
   "execution_count": 3,
   "id": "2734dfc2",
   "metadata": {},
   "outputs": [],
   "source": [
    "def analyze_stocks_realtime(list_A, base_A, support_A):\n",
    "    # Get realtime prices using .fast_info['lastPrice']\n",
    "    last_A = []\n",
    "    for ticker in list_A:\n",
    "        try:\n",
    "            stock = yf.Ticker(ticker)\n",
    "            last_price = stock.fast_info['lastPrice']\n",
    "        except Exception:\n",
    "            last_price = None\n",
    "        last_A.append(last_price)\n",
    "\n",
    "    # Create DataFrame\n",
    "    stocks_A = pd.DataFrame({\n",
    "        'Stock': list_A,\n",
    "        'Base': base_A,\n",
    "        'Support': support_A,\n",
    "        'Last': last_A})\n",
    "\n",
    "    # Create DataFrame\n",
    "    stocks_A = pd.DataFrame({\n",
    "        'Stock': list_A,\n",
    "        'Base': base_A,\n",
    "        'Support': support_A,\n",
    "        'Last Price': last_A})\n",
    "    \n",
    "    stocks_A['Change from Base (%)'] = (stocks_A['Last Price'] - stocks_A['Base'])/stocks_A['Base']*100\n",
    "    stocks_A['Change from Support (%)'] = (stocks_A['Last Price'] - stocks_A['Support'])/stocks_A['Support']*100\n",
    "\n",
    "    # Styling function\n",
    "    def color_change(val):\n",
    "        color = 'green' if val > 0 else 'red'\n",
    "        return f'color: {color}'\n",
    "\n",
    "    # Return styled DataFrame\n",
    "    styled_stocks_A = stocks_A.style \\\n",
    "        .map(color_change, subset=['Change from Base (%)', 'Change from Support (%)']) \\\n",
    "        .format({\n",
    "            'Last Price': '{:.0f}',\n",
    "            'Change from Base (%)': '{:.2f}',\n",
    "            'Change from Support (%)': '{:.2f}'})\n",
    "    return styled_stocks_A"
   ]
  },
  {
   "cell_type": "markdown",
   "id": "24c297de",
   "metadata": {},
   "source": []
  }
 ],
 "metadata": {
  "kernelspec": {
   "display_name": "pacmann",
   "language": "python",
   "name": "python3"
  },
  "language_info": {
   "codemirror_mode": {
    "name": "ipython",
    "version": 3
   },
   "file_extension": ".py",
   "mimetype": "text/x-python",
   "name": "python",
   "nbconvert_exporter": "python",
   "pygments_lexer": "ipython3",
   "version": "3.13.5"
  }
 },
 "nbformat": 4,
 "nbformat_minor": 5
}
