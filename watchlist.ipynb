{
 "cells": [
  {
   "cell_type": "markdown",
   "id": "eb15177b",
   "metadata": {},
   "source": [
    "# Whatchlist\n",
    "A Python script to monitor watchlist stocks performance by comparing the current market price against predefined base and support levels."
   ]
  },
  {
   "cell_type": "code",
   "execution_count": 1,
   "id": "9a6cb880",
   "metadata": {},
   "outputs": [],
   "source": [
    "import yfinance as yf\n",
    "import pandas as pd"
   ]
  },
  {
   "cell_type": "code",
   "execution_count": 2,
   "id": "18a83f3e",
   "metadata": {},
   "outputs": [],
   "source": [
    "def analyze_stocks(list_A, base_A, support_A):\n",
    "    # Download last closing prices\n",
    "    data = yf.download(list_A, period=\"1d\", progress=False)\n",
    "    closing = data['Close'].iloc[-1]\n",
    "\n",
    "    # Ensure correct order of closing prices\n",
    "    last_A = [closing[ticker] for ticker in list_A]\n",
    "\n",
    "    # Create DataFrame\n",
    "    stocks_A = pd.DataFrame({\n",
    "        'Stock': list_A,\n",
    "        'Base': base_A,\n",
    "        'Support': support_A,\n",
    "        'Last Price': last_A})\n",
    "    \n",
    "    stocks_A['Change from Base (%)'] = (stocks_A['Last Price'] - stocks_A['Base'])/stocks_A['Base']*100\n",
    "    stocks_A['Change from Support (%)'] = (stocks_A['Last Price'] - stocks_A['Support'])/stocks_A['Support']*100\n",
    "\n",
    "    # Styling function\n",
    "    def color_change(val):\n",
    "        color = 'green' if val > 0 else 'red'\n",
    "        return f'color: {color}'\n",
    "\n",
    "    # Return styled DataFrame\n",
    "    styled_stocks_A = stocks_A.style \\\n",
    "        .map(color_change, subset=['Change from Base (%)', 'Change from Support (%)']) \\\n",
    "        .format({\n",
    "            'Last Price': '{:.0f}',\n",
    "            'Change from Base (%)': '{:.2f}',\n",
    "            'Change from Support (%)': '{:.2f}'})\n",
    "    return styled_stocks_A"
   ]
  },
  {
   "cell_type": "code",
   "execution_count": 3,
   "id": "916070c2",
   "metadata": {},
   "outputs": [],
   "source": [
    "def analyze_stocks_realtime(list_A, base_A, support_A):\n",
    "    # Get realtime prices using .fast_info['lastPrice']\n",
    "    last_A = []\n",
    "    for ticker in list_A:\n",
    "        try:\n",
    "            stock = yf.Ticker(ticker)\n",
    "            last_price = stock.fast_info['lastPrice']\n",
    "        except Exception:\n",
    "            last_price = None\n",
    "        last_A.append(last_price)\n",
    "\n",
    "    # Create DataFrame\n",
    "    stocks_A = pd.DataFrame({\n",
    "        'Stock': list_A,\n",
    "        'Base': base_A,\n",
    "        'Support': support_A,\n",
    "        'Last': last_A})\n",
    "\n",
    "    # Create DataFrame\n",
    "    stocks_A = pd.DataFrame({\n",
    "        'Stock': list_A,\n",
    "        'Base': base_A,\n",
    "        'Support': support_A,\n",
    "        'Last Price': last_A})\n",
    "    \n",
    "    stocks_A['Change from Base (%)'] = (stocks_A['Last Price'] - stocks_A['Base'])/stocks_A['Base']*100\n",
    "    stocks_A['Change from Support (%)'] = (stocks_A['Last Price'] - stocks_A['Support'])/stocks_A['Support']*100\n",
    "\n",
    "    # Styling function\n",
    "    def color_change(val):\n",
    "        color = 'green' if val > 0 else 'red'\n",
    "        return f'color: {color}'\n",
    "\n",
    "    # Return styled DataFrame\n",
    "    styled_stocks_A = stocks_A.style \\\n",
    "        .map(color_change, subset=['Change from Base (%)', 'Change from Support (%)']) \\\n",
    "        .format({\n",
    "            'Last Price': '{:.0f}',\n",
    "            'Change from Base (%)': '{:.2f}',\n",
    "            'Change from Support (%)': '{:.2f}'})\n",
    "    return styled_stocks_A"
   ]
  },
  {
   "cell_type": "markdown",
   "id": "b2afb610",
   "metadata": {},
   "source": [
    "## Banking"
   ]
  },
  {
   "cell_type": "markdown",
   "id": "a738960c",
   "metadata": {},
   "source": [
    "### Big Banks"
   ]
  },
  {
   "cell_type": "code",
   "execution_count": 4,
   "id": "ea631af3",
   "metadata": {},
   "outputs": [
    {
     "data": {
      "text/html": [
       "<style type=\"text/css\">\n",
       "#T_e3247_row0_col4, #T_e3247_row0_col5, #T_e3247_row1_col4, #T_e3247_row1_col5, #T_e3247_row2_col4, #T_e3247_row2_col5, #T_e3247_row3_col4, #T_e3247_row3_col5 {\n",
       "  color: green;\n",
       "}\n",
       "</style>\n",
       "<table id=\"T_e3247\">\n",
       "  <thead>\n",
       "    <tr>\n",
       "      <th class=\"blank level0\" >&nbsp;</th>\n",
       "      <th id=\"T_e3247_level0_col0\" class=\"col_heading level0 col0\" >Stock</th>\n",
       "      <th id=\"T_e3247_level0_col1\" class=\"col_heading level0 col1\" >Base</th>\n",
       "      <th id=\"T_e3247_level0_col2\" class=\"col_heading level0 col2\" >Support</th>\n",
       "      <th id=\"T_e3247_level0_col3\" class=\"col_heading level0 col3\" >Last Price</th>\n",
       "      <th id=\"T_e3247_level0_col4\" class=\"col_heading level0 col4\" >Change from Base (%)</th>\n",
       "      <th id=\"T_e3247_level0_col5\" class=\"col_heading level0 col5\" >Change from Support (%)</th>\n",
       "    </tr>\n",
       "  </thead>\n",
       "  <tbody>\n",
       "    <tr>\n",
       "      <th id=\"T_e3247_level0_row0\" class=\"row_heading level0 row0\" >0</th>\n",
       "      <td id=\"T_e3247_row0_col0\" class=\"data row0 col0\" >BBCA.JK</td>\n",
       "      <td id=\"T_e3247_row0_col1\" class=\"data row0 col1\" >7400</td>\n",
       "      <td id=\"T_e3247_row0_col2\" class=\"data row0 col2\" >8275</td>\n",
       "      <td id=\"T_e3247_row0_col3\" class=\"data row0 col3\" >8700</td>\n",
       "      <td id=\"T_e3247_row0_col4\" class=\"data row0 col4\" >17.57</td>\n",
       "      <td id=\"T_e3247_row0_col5\" class=\"data row0 col5\" >5.14</td>\n",
       "    </tr>\n",
       "    <tr>\n",
       "      <th id=\"T_e3247_level0_row1\" class=\"row_heading level0 row1\" >1</th>\n",
       "      <td id=\"T_e3247_row1_col0\" class=\"data row1 col0\" >BBRI.JK</td>\n",
       "      <td id=\"T_e3247_row1_col1\" class=\"data row1 col1\" >3360</td>\n",
       "      <td id=\"T_e3247_row1_col2\" class=\"data row1 col2\" >3650</td>\n",
       "      <td id=\"T_e3247_row1_col3\" class=\"data row1 col3\" >4120</td>\n",
       "      <td id=\"T_e3247_row1_col4\" class=\"data row1 col4\" >22.62</td>\n",
       "      <td id=\"T_e3247_row1_col5\" class=\"data row1 col5\" >12.88</td>\n",
       "    </tr>\n",
       "    <tr>\n",
       "      <th id=\"T_e3247_level0_row2\" class=\"row_heading level0 row2\" >2</th>\n",
       "      <td id=\"T_e3247_row2_col0\" class=\"data row2 col0\" >BMRI.JK</td>\n",
       "      <td id=\"T_e3247_row2_col1\" class=\"data row2 col1\" >4350</td>\n",
       "      <td id=\"T_e3247_row2_col2\" class=\"data row2 col2\" >4510</td>\n",
       "      <td id=\"T_e3247_row2_col3\" class=\"data row2 col3\" >4850</td>\n",
       "      <td id=\"T_e3247_row2_col4\" class=\"data row2 col4\" >11.49</td>\n",
       "      <td id=\"T_e3247_row2_col5\" class=\"data row2 col5\" >7.54</td>\n",
       "    </tr>\n",
       "    <tr>\n",
       "      <th id=\"T_e3247_level0_row3\" class=\"row_heading level0 row3\" >3</th>\n",
       "      <td id=\"T_e3247_row3_col0\" class=\"data row3 col0\" >BBNI.JK</td>\n",
       "      <td id=\"T_e3247_row3_col1\" class=\"data row3 col1\" >3670</td>\n",
       "      <td id=\"T_e3247_row3_col2\" class=\"data row3 col2\" >3950</td>\n",
       "      <td id=\"T_e3247_row3_col3\" class=\"data row3 col3\" >4370</td>\n",
       "      <td id=\"T_e3247_row3_col4\" class=\"data row3 col4\" >19.07</td>\n",
       "      <td id=\"T_e3247_row3_col5\" class=\"data row3 col5\" >10.63</td>\n",
       "    </tr>\n",
       "  </tbody>\n",
       "</table>\n"
      ],
      "text/plain": [
       "<pandas.io.formats.style.Styler at 0x10f077620>"
      ]
     },
     "execution_count": 4,
     "metadata": {},
     "output_type": "execute_result"
    }
   ],
   "source": [
    "list_A = [\"BBCA.JK\", \"BBRI.JK\", \"BMRI.JK\", \"BBNI.JK\"]\n",
    "base_A = [7400, 3360, 4350, 3670]\n",
    "support_A = [8275, 3650, 4510, 3950]\n",
    "\n",
    "stocks_A = analyze_stocks_realtime(list_A, base_A, support_A)\n",
    "stocks_A"
   ]
  },
  {
   "cell_type": "markdown",
   "id": "d0d37a9b",
   "metadata": {},
   "source": [
    "### Second liner Banks"
   ]
  },
  {
   "cell_type": "code",
   "execution_count": 5,
   "id": "de71d190",
   "metadata": {},
   "outputs": [
    {
     "data": {
      "text/html": [
       "<style type=\"text/css\">\n",
       "#T_ac24e_row0_col4, #T_ac24e_row0_col5, #T_ac24e_row1_col4, #T_ac24e_row1_col5, #T_ac24e_row2_col4, #T_ac24e_row2_col5, #T_ac24e_row3_col4, #T_ac24e_row3_col5, #T_ac24e_row4_col4, #T_ac24e_row4_col5 {\n",
       "  color: green;\n",
       "}\n",
       "</style>\n",
       "<table id=\"T_ac24e\">\n",
       "  <thead>\n",
       "    <tr>\n",
       "      <th class=\"blank level0\" >&nbsp;</th>\n",
       "      <th id=\"T_ac24e_level0_col0\" class=\"col_heading level0 col0\" >Stock</th>\n",
       "      <th id=\"T_ac24e_level0_col1\" class=\"col_heading level0 col1\" >Base</th>\n",
       "      <th id=\"T_ac24e_level0_col2\" class=\"col_heading level0 col2\" >Support</th>\n",
       "      <th id=\"T_ac24e_level0_col3\" class=\"col_heading level0 col3\" >Last Price</th>\n",
       "      <th id=\"T_ac24e_level0_col4\" class=\"col_heading level0 col4\" >Change from Base (%)</th>\n",
       "      <th id=\"T_ac24e_level0_col5\" class=\"col_heading level0 col5\" >Change from Support (%)</th>\n",
       "    </tr>\n",
       "  </thead>\n",
       "  <tbody>\n",
       "    <tr>\n",
       "      <th id=\"T_ac24e_level0_row0\" class=\"row_heading level0 row0\" >0</th>\n",
       "      <td id=\"T_ac24e_row0_col0\" class=\"data row0 col0\" >BBTN.JK</td>\n",
       "      <td id=\"T_ac24e_row0_col1\" class=\"data row0 col1\" >770</td>\n",
       "      <td id=\"T_ac24e_row0_col2\" class=\"data row0 col2\" >1080</td>\n",
       "      <td id=\"T_ac24e_row0_col3\" class=\"data row0 col3\" >1280</td>\n",
       "      <td id=\"T_ac24e_row0_col4\" class=\"data row0 col4\" >66.23</td>\n",
       "      <td id=\"T_ac24e_row0_col5\" class=\"data row0 col5\" >18.52</td>\n",
       "    </tr>\n",
       "    <tr>\n",
       "      <th id=\"T_ac24e_level0_row1\" class=\"row_heading level0 row1\" >1</th>\n",
       "      <td id=\"T_ac24e_row1_col0\" class=\"data row1 col0\" >BRIS.JK</td>\n",
       "      <td id=\"T_ac24e_row1_col1\" class=\"data row1 col1\" >2040</td>\n",
       "      <td id=\"T_ac24e_row1_col2\" class=\"data row1 col2\" >2410</td>\n",
       "      <td id=\"T_ac24e_row1_col3\" class=\"data row1 col3\" >2770</td>\n",
       "      <td id=\"T_ac24e_row1_col4\" class=\"data row1 col4\" >35.78</td>\n",
       "      <td id=\"T_ac24e_row1_col5\" class=\"data row1 col5\" >14.94</td>\n",
       "    </tr>\n",
       "    <tr>\n",
       "      <th id=\"T_ac24e_level0_row2\" class=\"row_heading level0 row2\" >2</th>\n",
       "      <td id=\"T_ac24e_row2_col0\" class=\"data row2 col0\" >BNGA.JK</td>\n",
       "      <td id=\"T_ac24e_row2_col1\" class=\"data row2 col1\" >1590</td>\n",
       "      <td id=\"T_ac24e_row2_col2\" class=\"data row2 col2\" >1660</td>\n",
       "      <td id=\"T_ac24e_row2_col3\" class=\"data row2 col3\" >1715</td>\n",
       "      <td id=\"T_ac24e_row2_col4\" class=\"data row2 col4\" >7.86</td>\n",
       "      <td id=\"T_ac24e_row2_col5\" class=\"data row2 col5\" >3.31</td>\n",
       "    </tr>\n",
       "    <tr>\n",
       "      <th id=\"T_ac24e_level0_row3\" class=\"row_heading level0 row3\" >3</th>\n",
       "      <td id=\"T_ac24e_row3_col0\" class=\"data row3 col0\" >NISP.JK</td>\n",
       "      <td id=\"T_ac24e_row3_col1\" class=\"data row3 col1\" >1220</td>\n",
       "      <td id=\"T_ac24e_row3_col2\" class=\"data row3 col2\" >1305</td>\n",
       "      <td id=\"T_ac24e_row3_col3\" class=\"data row3 col3\" >1370</td>\n",
       "      <td id=\"T_ac24e_row3_col4\" class=\"data row3 col4\" >12.30</td>\n",
       "      <td id=\"T_ac24e_row3_col5\" class=\"data row3 col5\" >4.98</td>\n",
       "    </tr>\n",
       "    <tr>\n",
       "      <th id=\"T_ac24e_level0_row4\" class=\"row_heading level0 row4\" >4</th>\n",
       "      <td id=\"T_ac24e_row4_col0\" class=\"data row4 col0\" >PNLF.JK</td>\n",
       "      <td id=\"T_ac24e_row4_col1\" class=\"data row4 col1\" >252</td>\n",
       "      <td id=\"T_ac24e_row4_col2\" class=\"data row4 col2\" >252</td>\n",
       "      <td id=\"T_ac24e_row4_col3\" class=\"data row4 col3\" >254</td>\n",
       "      <td id=\"T_ac24e_row4_col4\" class=\"data row4 col4\" >0.79</td>\n",
       "      <td id=\"T_ac24e_row4_col5\" class=\"data row4 col5\" >0.79</td>\n",
       "    </tr>\n",
       "  </tbody>\n",
       "</table>\n"
      ],
      "text/plain": [
       "<pandas.io.formats.style.Styler at 0x10e668910>"
      ]
     },
     "execution_count": 5,
     "metadata": {},
     "output_type": "execute_result"
    }
   ],
   "source": [
    "list_B = [\"BBTN.JK\", \"BRIS.JK\", \"BNGA.JK\", \"NISP.JK\", \"PNLF.JK\"]\n",
    "base_B = [770, 2040, 1590, 1220, 252]\n",
    "support_B = [1080, 2410, 1660, 1305, 252]\n",
    "\n",
    "stocks_B = analyze_stocks_realtime(list_B, base_B, support_B)\n",
    "stocks_B"
   ]
  },
  {
   "cell_type": "markdown",
   "id": "f7f04033",
   "metadata": {},
   "source": [
    "### Digital Banks"
   ]
  },
  {
   "cell_type": "code",
   "execution_count": 6,
   "id": "1eb2c1fb",
   "metadata": {},
   "outputs": [
    {
     "data": {
      "text/html": [
       "<style type=\"text/css\">\n",
       "#T_edeec_row0_col4, #T_edeec_row0_col5, #T_edeec_row1_col4, #T_edeec_row1_col5 {\n",
       "  color: green;\n",
       "}\n",
       "</style>\n",
       "<table id=\"T_edeec\">\n",
       "  <thead>\n",
       "    <tr>\n",
       "      <th class=\"blank level0\" >&nbsp;</th>\n",
       "      <th id=\"T_edeec_level0_col0\" class=\"col_heading level0 col0\" >Stock</th>\n",
       "      <th id=\"T_edeec_level0_col1\" class=\"col_heading level0 col1\" >Base</th>\n",
       "      <th id=\"T_edeec_level0_col2\" class=\"col_heading level0 col2\" >Support</th>\n",
       "      <th id=\"T_edeec_level0_col3\" class=\"col_heading level0 col3\" >Last Price</th>\n",
       "      <th id=\"T_edeec_level0_col4\" class=\"col_heading level0 col4\" >Change from Base (%)</th>\n",
       "      <th id=\"T_edeec_level0_col5\" class=\"col_heading level0 col5\" >Change from Support (%)</th>\n",
       "    </tr>\n",
       "  </thead>\n",
       "  <tbody>\n",
       "    <tr>\n",
       "      <th id=\"T_edeec_level0_row0\" class=\"row_heading level0 row0\" >0</th>\n",
       "      <td id=\"T_edeec_row0_col0\" class=\"data row0 col0\" >ARTO.JK</td>\n",
       "      <td id=\"T_edeec_row0_col1\" class=\"data row0 col1\" >1250</td>\n",
       "      <td id=\"T_edeec_row0_col2\" class=\"data row0 col2\" >1590</td>\n",
       "      <td id=\"T_edeec_row0_col3\" class=\"data row0 col3\" >2180</td>\n",
       "      <td id=\"T_edeec_row0_col4\" class=\"data row0 col4\" >74.40</td>\n",
       "      <td id=\"T_edeec_row0_col5\" class=\"data row0 col5\" >37.11</td>\n",
       "    </tr>\n",
       "    <tr>\n",
       "      <th id=\"T_edeec_level0_row1\" class=\"row_heading level0 row1\" >1</th>\n",
       "      <td id=\"T_edeec_row1_col0\" class=\"data row1 col0\" >BBYB.JK</td>\n",
       "      <td id=\"T_edeec_row1_col1\" class=\"data row1 col1\" >156</td>\n",
       "      <td id=\"T_edeec_row1_col2\" class=\"data row1 col2\" >206</td>\n",
       "      <td id=\"T_edeec_row1_col3\" class=\"data row1 col3\" >330</td>\n",
       "      <td id=\"T_edeec_row1_col4\" class=\"data row1 col4\" >111.54</td>\n",
       "      <td id=\"T_edeec_row1_col5\" class=\"data row1 col5\" >60.19</td>\n",
       "    </tr>\n",
       "  </tbody>\n",
       "</table>\n"
      ],
      "text/plain": [
       "<pandas.io.formats.style.Styler at 0x10f188a50>"
      ]
     },
     "execution_count": 6,
     "metadata": {},
     "output_type": "execute_result"
    }
   ],
   "source": [
    "list_C = [\"ARTO.JK\", \"BBYB.JK\"]\n",
    "base_C = [1250, 156]\n",
    "support_C = [1590, 206]\n",
    "\n",
    "stocks_C = analyze_stocks_realtime(list_C, base_C, support_C)\n",
    "stocks_C"
   ]
  },
  {
   "cell_type": "markdown",
   "id": "5a438d58",
   "metadata": {},
   "source": [
    "## Metals"
   ]
  },
  {
   "cell_type": "code",
   "execution_count": null,
   "id": "7620c1ca",
   "metadata": {},
   "outputs": [],
   "source": [
    "list_D = [\"ANTM.JK\", \"PSAB.JK\", \"INCO.JK\", \"MDKA.JK\", \"ADMR.JK\", \"MBMA.JK\", \"TINS.JK\", \"NCKL.JK\"]\n",
    "base_D = [1400, 214, 1845, 1035]\n",
    "support_D = [2840, 400, 3090, 1800]\n",
    "\n",
    "stocks_D = analyze_stocks_realtime(list_D, base_D, support_D)\n",
    "stocks_D"
   ]
  },
  {
   "cell_type": "markdown",
   "id": "78dcc426",
   "metadata": {},
   "source": [
    "## Property"
   ]
  },
  {
   "cell_type": "code",
   "execution_count": null,
   "id": "e84e414a",
   "metadata": {},
   "outputs": [],
   "source": [
    "list_E = [\"PANI.JK\",\"SMRA.JK\", \"BSDE.JK\", \"PWON.JK\", \"CBDK.JK\", \"CTRA.JK\"]\n",
    "base_E = [8175,338, 725, 312, 4500]\n",
    "support_E = [10400,364, 780, 350, 5400]\n",
    "\n",
    "stocks_E = analyze_stocks_realtime(list_E, base_E, support_E)\n",
    "stocks_E"
   ]
  },
  {
   "cell_type": "markdown",
   "id": "7e10e468",
   "metadata": {},
   "source": [
    "## Energy"
   ]
  },
  {
   "cell_type": "code",
   "execution_count": null,
   "id": "dc8ae624",
   "metadata": {},
   "outputs": [],
   "source": [
    "list_E = [\"ADRO.JK\", \"PGAS.JK\", \"PGEO.JK\", \"HRUM.JK\", \"PTRO.JK\", \"BUMI.JK\", \"INDY.JK\", \"RAJA.JK\", \"RATU.JK\", \"DEWA.JK\", \"TOBA.JK\", \"ENRG.JK\"]\n",
    "base_E = []\n",
    "support_E = []\n",
    "\n",
    "stocks_E = analyze_stocks_realtime(list_E, base_E, support_E)\n",
    "stocks_E"
   ]
  },
  {
   "cell_type": "markdown",
   "id": "f7d87f4f",
   "metadata": {},
   "source": [
    "## Coal"
   ]
  },
  {
   "cell_type": "code",
   "execution_count": null,
   "id": "8a0deb55",
   "metadata": {},
   "outputs": [],
   "source": [
    "list_G = [\"AADI.JK\",\"PTBA.JK\", \"ITMG.JK\"]\n",
    "base_G = [8175,338, 725, 312, 4500]\n",
    "support_G = [10400,364, 780, 350, 5400]\n",
    "\n",
    "stocks_G = analyze_stocks_realtime(list_G, base_G, support_G)\n",
    "stocks_G"
   ]
  },
  {
   "cell_type": "markdown",
   "id": "09f02a3d",
   "metadata": {},
   "source": [
    "## OIL"
   ]
  },
  {
   "cell_type": "code",
   "execution_count": null,
   "id": "8f160d8b",
   "metadata": {},
   "outputs": [],
   "source": [
    "list_F = [\"ELSA.JK\", \"AKRA.JK\", \"ESSA.JK\", \"HRUM.JK\"]\n",
    "base_F = [8175,338, 725, 312, 4500]\n",
    "support_F = [10400,364, 780, 350, 5400]\n",
    "\n",
    "stocks_F = analyze_stocks_realtime(list_F, base_F, support_F)\n",
    "stocks_F"
   ]
  },
  {
   "cell_type": "markdown",
   "id": "41ea8981",
   "metadata": {},
   "source": [
    "## CPO"
   ]
  },
  {
   "cell_type": "code",
   "execution_count": null,
   "id": "a4730c33",
   "metadata": {},
   "outputs": [],
   "source": [
    "list_H = [\"AALI.JK\", \"TAPG.JK\", \"DSNG.JK\", \"LSIP.JK\", \"SGRO.JK\", \"GZCO.JK\"]\n",
    "base_H = [8175,338, 725, 312, 4500]\n",
    "support_H = [10400,364, 780, 350, 5400]\n",
    "\n",
    "stocks_H = analyze_stocks_realtime(list_H, base_H, support_H)\n",
    "stocks_H"
   ]
  },
  {
   "cell_type": "markdown",
   "id": "d14e6088",
   "metadata": {},
   "source": [
    "## Consumer Goods & Poultry"
   ]
  },
  {
   "cell_type": "code",
   "execution_count": null,
   "id": "a8fb1870",
   "metadata": {},
   "outputs": [],
   "source": [
    "list_I = [\"ICBP.JK\", \"INDF.JK\", \"JPFA.JK\", \"CPIN.JK\", \"CMRY.JK\", \"SIDO.JK\"]\n",
    "base_I = [8175,338, 725, 312, 4500]\n",
    "support_I = [10400,364, 780, 350, 5400]\n",
    "\n",
    "stocks_I = analyze_stocks_realtime(list_I, base_I, support_I)\n",
    "stocks_I"
   ]
  },
  {
   "cell_type": "markdown",
   "id": "f569887f",
   "metadata": {},
   "source": [
    "## Retail"
   ]
  },
  {
   "cell_type": "code",
   "execution_count": null,
   "id": "6353b04c",
   "metadata": {},
   "outputs": [],
   "source": [
    "list_I = [\"MAPI.JK\", \"ACES.JK\", \"AMRT.JK\", \"CPIN.JK\"]\n",
    "base_I = [8175,338, 725, 312, 4500]\n",
    "support_I = [10400,364, 780, 350, 5400]\n",
    "\n",
    "stocks_I = analyze_stocks_realtime(list_I, base_I, support_I)\n",
    "stocks_I"
   ]
  },
  {
   "cell_type": "markdown",
   "id": "f9bec7d9",
   "metadata": {},
   "source": [
    "## Technology"
   ]
  },
  {
   "cell_type": "code",
   "execution_count": null,
   "id": "793ee5ef",
   "metadata": {},
   "outputs": [],
   "source": [
    "list_I = [\"EMTK.JK\", \"SCMA.JK\", \"GOTO.JK\", \"BUKA.JK\", \"WIFI.JK\"]\n",
    "base_I = [8175,338, 725, 312, 4500]\n",
    "support_I = [10400,364, 780, 350, 5400]\n",
    "\n",
    "stocks_I = analyze_stocks_realtime(list_I, base_I, support_I)\n",
    "stocks_I"
   ]
  },
  {
   "cell_type": "markdown",
   "id": "c7e17125",
   "metadata": {},
   "source": [
    "## Infrastructure"
   ]
  },
  {
   "cell_type": "code",
   "execution_count": null,
   "id": "a6d759b2",
   "metadata": {},
   "outputs": [],
   "source": [
    "list_I = [\"EMTK.JK\", \"SCMA.JK\", \"GOTO.JK\", \"BUKA.JK\", \"WIFI.JK\"]\n",
    "base_I = []\n",
    "support_I = []\n",
    "\n",
    "stocks_I = analyze_stocks_realtime(list_I, base_I, support_I)\n",
    "stocks_I"
   ]
  },
  {
   "cell_type": "markdown",
   "id": "ba44b1e9",
   "metadata": {},
   "source": [
    "## BHMN"
   ]
  },
  {
   "cell_type": "code",
   "execution_count": null,
   "id": "a99499d3",
   "metadata": {},
   "outputs": [],
   "source": [
    "list_J = [\"TLKM.JK\",\"PGEO.JK\", \"PGAS.JK\", \"PTPP.JK\", \"SMGR.JK\", \"JSMR.JK\"]\n",
    "base_J = [8175,338, 725, 312, 4500]\n",
    "support_J = [10400,364, 780, 350, 5400]\n",
    "\n",
    "stocks_J = analyze_stocks_realtime(list_J, base_J, support_J)\n",
    "stocks_J"
   ]
  },
  {
   "cell_type": "markdown",
   "id": "4519f039",
   "metadata": {},
   "source": [
    "## Barito Group"
   ]
  },
  {
   "cell_type": "code",
   "execution_count": null,
   "id": "96910494",
   "metadata": {},
   "outputs": [],
   "source": [
    "list_J = [\"BREN.JK\", \"BRPT.JK\", \"CUAN.JK\", \"PTRO.JK\", \"CDIA.JK\", \"TPIA.JK\"]\n",
    "base_J = [8175,338, 725, 312, 4500]\n",
    "support_J = [10400,364, 780, 350, 5400]\n",
    "\n",
    "stocks_J = analyze_stocks_realtime(list_J, base_J, support_J)\n",
    "stocks_J"
   ]
  },
  {
   "cell_type": "markdown",
   "id": "c56d80df",
   "metadata": {},
   "source": [
    "## Others"
   ]
  },
  {
   "cell_type": "code",
   "execution_count": null,
   "id": "2d333c4d",
   "metadata": {},
   "outputs": [],
   "source": [
    "list_J = [\"RAJA.JK\", \"RATU.JK\", \"HMSP.JK\", \"SRTG.JK\", \"SSIA.JK\", \"TOBA.JK\", \"UNVR.JK\", \"WIFI.JK\", \"BUMI.JK\", \"UNTR.JK\"]\n",
    "base_J = [8175,338, 725, 312, 4500]\n",
    "support_J = [10400,364, 780, 350, 5400]\n",
    "\n",
    "stocks_J = analyze_stocks_realtime(list_J, base_J, support_J)\n",
    "stocks_J"
   ]
  }
 ],
 "metadata": {
  "kernelspec": {
   "display_name": "pacmann",
   "language": "python",
   "name": "python3"
  },
  "language_info": {
   "codemirror_mode": {
    "name": "ipython",
    "version": 3
   },
   "file_extension": ".py",
   "mimetype": "text/x-python",
   "name": "python",
   "nbconvert_exporter": "python",
   "pygments_lexer": "ipython3",
   "version": "3.13.5"
  }
 },
 "nbformat": 4,
 "nbformat_minor": 5
}
