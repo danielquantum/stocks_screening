{
 "cells": [
  {
   "cell_type": "markdown",
   "id": "eb15177b",
   "metadata": {},
   "source": [
    "# Whatchlist\n",
    "A Python script to monitor watchlist stocks performance by comparing the current market price against predefined base and support levels."
   ]
  },
  {
   "cell_type": "code",
   "execution_count": 1,
   "id": "9a6cb880",
   "metadata": {},
   "outputs": [],
   "source": [
    "import yfinance as yf\n",
    "import pandas as pd"
   ]
  },
  {
   "cell_type": "code",
   "execution_count": 2,
   "id": "18a83f3e",
   "metadata": {},
   "outputs": [],
   "source": [
    "def analyze_stocks(list_A, base_A, support_A):\n",
    "    # Download last closing prices\n",
    "    data = yf.download(list_A, period=\"1d\", progress=False)\n",
    "    closing = data['Close'].iloc[-1]\n",
    "\n",
    "    # Ensure correct order of closing prices\n",
    "    last_A = [closing[ticker] for ticker in list_A]\n",
    "\n",
    "    # Create DataFrame\n",
    "    stocks_A = pd.DataFrame({\n",
    "        'Stock': list_A,\n",
    "        'Base': base_A,\n",
    "        'Support': support_A,\n",
    "        'Last Price': last_A})\n",
    "    \n",
    "    stocks_A['Change from Base (%)'] = (stocks_A['Last Price'] - stocks_A['Base'])/stocks_A['Base']*100\n",
    "    stocks_A['Change from Support (%)'] = (stocks_A['Last Price'] - stocks_A['Support'])/stocks_A['Support']*100\n",
    "\n",
    "    # Styling function\n",
    "    def color_change(val):\n",
    "        color = 'green' if val > 0 else 'red'\n",
    "        return f'color: {color}'\n",
    "\n",
    "    # Return styled DataFrame\n",
    "    styled_stocks_A = stocks_A.style \\\n",
    "        .map(color_change, subset=['Change from Base (%)', 'Change from Support (%)']) \\\n",
    "        .format({\n",
    "            'Last Price': '{:.0f}',\n",
    "            'Change from Base (%)': '{:.2f}',\n",
    "            'Change from Support (%)': '{:.2f}'})\n",
    "    return styled_stocks_A"
   ]
  },
  {
   "cell_type": "code",
   "execution_count": 3,
   "id": "916070c2",
   "metadata": {},
   "outputs": [],
   "source": [
    "def analyze_stocks_realtime(list_A, base_A, support_A):\n",
    "    # Get realtime prices using .fast_info['lastPrice']\n",
    "    last_A = []\n",
    "    for ticker in list_A:\n",
    "        try:\n",
    "            stock = yf.Ticker(ticker)\n",
    "            last_price = stock.fast_info['lastPrice']\n",
    "        except Exception:\n",
    "            last_price = None\n",
    "        last_A.append(last_price)\n",
    "\n",
    "    # Create DataFrame\n",
    "    stocks_A = pd.DataFrame({\n",
    "        'Stock': list_A,\n",
    "        'Base': base_A,\n",
    "        'Support': support_A,\n",
    "        'Last': last_A})\n",
    "\n",
    "    # Create DataFrame\n",
    "    stocks_A = pd.DataFrame({\n",
    "        'Stock': list_A,\n",
    "        'Base': base_A,\n",
    "        'Support': support_A,\n",
    "        'Last Price': last_A})\n",
    "    \n",
    "    stocks_A['Change from Base (%)'] = (stocks_A['Last Price'] - stocks_A['Base'])/stocks_A['Base']*100\n",
    "    stocks_A['Change from Support (%)'] = (stocks_A['Last Price'] - stocks_A['Support'])/stocks_A['Support']*100\n",
    "\n",
    "    # Styling function\n",
    "    def color_change(val):\n",
    "        color = 'green' if val > 0 else 'red'\n",
    "        return f'color: {color}'\n",
    "\n",
    "    # Return styled DataFrame\n",
    "    styled_stocks_A = stocks_A.style \\\n",
    "        .map(color_change, subset=['Change from Base (%)', 'Change from Support (%)']) \\\n",
    "        .format({\n",
    "            'Last Price': '{:.0f}',\n",
    "            'Change from Base (%)': '{:.2f}',\n",
    "            'Change from Support (%)': '{:.2f}'})\n",
    "    return styled_stocks_A"
   ]
  },
  {
   "cell_type": "markdown",
   "id": "b2afb610",
   "metadata": {},
   "source": [
    "## Banking"
   ]
  },
  {
   "cell_type": "markdown",
   "id": "a738960c",
   "metadata": {},
   "source": [
    "### Big Banks"
   ]
  },
  {
   "cell_type": "code",
   "execution_count": 4,
   "id": "ea631af3",
   "metadata": {},
   "outputs": [
    {
     "data": {
      "text/html": [
       "<style type=\"text/css\">\n",
       "#T_d883c_row0_col4, #T_d883c_row0_col5, #T_d883c_row1_col4, #T_d883c_row1_col5, #T_d883c_row2_col4, #T_d883c_row2_col5, #T_d883c_row3_col4, #T_d883c_row3_col5 {\n",
       "  color: green;\n",
       "}\n",
       "</style>\n",
       "<table id=\"T_d883c\">\n",
       "  <thead>\n",
       "    <tr>\n",
       "      <th class=\"blank level0\" >&nbsp;</th>\n",
       "      <th id=\"T_d883c_level0_col0\" class=\"col_heading level0 col0\" >Stock</th>\n",
       "      <th id=\"T_d883c_level0_col1\" class=\"col_heading level0 col1\" >Base</th>\n",
       "      <th id=\"T_d883c_level0_col2\" class=\"col_heading level0 col2\" >Support</th>\n",
       "      <th id=\"T_d883c_level0_col3\" class=\"col_heading level0 col3\" >Last Price</th>\n",
       "      <th id=\"T_d883c_level0_col4\" class=\"col_heading level0 col4\" >Change from Base (%)</th>\n",
       "      <th id=\"T_d883c_level0_col5\" class=\"col_heading level0 col5\" >Change from Support (%)</th>\n",
       "    </tr>\n",
       "  </thead>\n",
       "  <tbody>\n",
       "    <tr>\n",
       "      <th id=\"T_d883c_level0_row0\" class=\"row_heading level0 row0\" >0</th>\n",
       "      <td id=\"T_d883c_row0_col0\" class=\"data row0 col0\" >BBCA.JK</td>\n",
       "      <td id=\"T_d883c_row0_col1\" class=\"data row0 col1\" >7400</td>\n",
       "      <td id=\"T_d883c_row0_col2\" class=\"data row0 col2\" >8275</td>\n",
       "      <td id=\"T_d883c_row0_col3\" class=\"data row0 col3\" >8825</td>\n",
       "      <td id=\"T_d883c_row0_col4\" class=\"data row0 col4\" >19.26</td>\n",
       "      <td id=\"T_d883c_row0_col5\" class=\"data row0 col5\" >6.65</td>\n",
       "    </tr>\n",
       "    <tr>\n",
       "      <th id=\"T_d883c_level0_row1\" class=\"row_heading level0 row1\" >1</th>\n",
       "      <td id=\"T_d883c_row1_col0\" class=\"data row1 col0\" >BBRI.JK</td>\n",
       "      <td id=\"T_d883c_row1_col1\" class=\"data row1 col1\" >3360</td>\n",
       "      <td id=\"T_d883c_row1_col2\" class=\"data row1 col2\" >3650</td>\n",
       "      <td id=\"T_d883c_row1_col3\" class=\"data row1 col3\" >4110</td>\n",
       "      <td id=\"T_d883c_row1_col4\" class=\"data row1 col4\" >22.32</td>\n",
       "      <td id=\"T_d883c_row1_col5\" class=\"data row1 col5\" >12.60</td>\n",
       "    </tr>\n",
       "    <tr>\n",
       "      <th id=\"T_d883c_level0_row2\" class=\"row_heading level0 row2\" >2</th>\n",
       "      <td id=\"T_d883c_row2_col0\" class=\"data row2 col0\" >BMRI.JK</td>\n",
       "      <td id=\"T_d883c_row2_col1\" class=\"data row2 col1\" >4350</td>\n",
       "      <td id=\"T_d883c_row2_col2\" class=\"data row2 col2\" >4510</td>\n",
       "      <td id=\"T_d883c_row2_col3\" class=\"data row2 col3\" >4910</td>\n",
       "      <td id=\"T_d883c_row2_col4\" class=\"data row2 col4\" >12.87</td>\n",
       "      <td id=\"T_d883c_row2_col5\" class=\"data row2 col5\" >8.87</td>\n",
       "    </tr>\n",
       "    <tr>\n",
       "      <th id=\"T_d883c_level0_row3\" class=\"row_heading level0 row3\" >3</th>\n",
       "      <td id=\"T_d883c_row3_col0\" class=\"data row3 col0\" >BBNI.JK</td>\n",
       "      <td id=\"T_d883c_row3_col1\" class=\"data row3 col1\" >3670</td>\n",
       "      <td id=\"T_d883c_row3_col2\" class=\"data row3 col2\" >3950</td>\n",
       "      <td id=\"T_d883c_row3_col3\" class=\"data row3 col3\" >4410</td>\n",
       "      <td id=\"T_d883c_row3_col4\" class=\"data row3 col4\" >20.16</td>\n",
       "      <td id=\"T_d883c_row3_col5\" class=\"data row3 col5\" >11.65</td>\n",
       "    </tr>\n",
       "  </tbody>\n",
       "</table>\n"
      ],
      "text/plain": [
       "<pandas.io.formats.style.Styler at 0x10f467380>"
      ]
     },
     "execution_count": 4,
     "metadata": {},
     "output_type": "execute_result"
    }
   ],
   "source": [
    "list_A = [\"BBCA.JK\", \"BBRI.JK\", \"BMRI.JK\", \"BBNI.JK\"]\n",
    "base_A = [7400, 3360, 4350, 3670]\n",
    "support_A = [8275, 3650, 4510, 3950]\n",
    "\n",
    "stocks_A = analyze_stocks_realtime(list_A, base_A, support_A)\n",
    "stocks_A"
   ]
  },
  {
   "cell_type": "markdown",
   "id": "d0d37a9b",
   "metadata": {},
   "source": [
    "### Second liner Banks"
   ]
  },
  {
   "cell_type": "code",
   "execution_count": 5,
   "id": "de71d190",
   "metadata": {},
   "outputs": [
    {
     "data": {
      "text/html": [
       "<style type=\"text/css\">\n",
       "#T_143e3_row0_col4, #T_143e3_row0_col5, #T_143e3_row1_col4, #T_143e3_row1_col5, #T_143e3_row2_col4, #T_143e3_row2_col5, #T_143e3_row3_col4, #T_143e3_row3_col5, #T_143e3_row4_col4, #T_143e3_row4_col5 {\n",
       "  color: green;\n",
       "}\n",
       "</style>\n",
       "<table id=\"T_143e3\">\n",
       "  <thead>\n",
       "    <tr>\n",
       "      <th class=\"blank level0\" >&nbsp;</th>\n",
       "      <th id=\"T_143e3_level0_col0\" class=\"col_heading level0 col0\" >Stock</th>\n",
       "      <th id=\"T_143e3_level0_col1\" class=\"col_heading level0 col1\" >Base</th>\n",
       "      <th id=\"T_143e3_level0_col2\" class=\"col_heading level0 col2\" >Support</th>\n",
       "      <th id=\"T_143e3_level0_col3\" class=\"col_heading level0 col3\" >Last Price</th>\n",
       "      <th id=\"T_143e3_level0_col4\" class=\"col_heading level0 col4\" >Change from Base (%)</th>\n",
       "      <th id=\"T_143e3_level0_col5\" class=\"col_heading level0 col5\" >Change from Support (%)</th>\n",
       "    </tr>\n",
       "  </thead>\n",
       "  <tbody>\n",
       "    <tr>\n",
       "      <th id=\"T_143e3_level0_row0\" class=\"row_heading level0 row0\" >0</th>\n",
       "      <td id=\"T_143e3_row0_col0\" class=\"data row0 col0\" >BBTN.JK</td>\n",
       "      <td id=\"T_143e3_row0_col1\" class=\"data row0 col1\" >770</td>\n",
       "      <td id=\"T_143e3_row0_col2\" class=\"data row0 col2\" >1080</td>\n",
       "      <td id=\"T_143e3_row0_col3\" class=\"data row0 col3\" >1340</td>\n",
       "      <td id=\"T_143e3_row0_col4\" class=\"data row0 col4\" >74.03</td>\n",
       "      <td id=\"T_143e3_row0_col5\" class=\"data row0 col5\" >24.07</td>\n",
       "    </tr>\n",
       "    <tr>\n",
       "      <th id=\"T_143e3_level0_row1\" class=\"row_heading level0 row1\" >1</th>\n",
       "      <td id=\"T_143e3_row1_col0\" class=\"data row1 col0\" >BRIS.JK</td>\n",
       "      <td id=\"T_143e3_row1_col1\" class=\"data row1 col1\" >2040</td>\n",
       "      <td id=\"T_143e3_row1_col2\" class=\"data row1 col2\" >2410</td>\n",
       "      <td id=\"T_143e3_row1_col3\" class=\"data row1 col3\" >2780</td>\n",
       "      <td id=\"T_143e3_row1_col4\" class=\"data row1 col4\" >36.27</td>\n",
       "      <td id=\"T_143e3_row1_col5\" class=\"data row1 col5\" >15.35</td>\n",
       "    </tr>\n",
       "    <tr>\n",
       "      <th id=\"T_143e3_level0_row2\" class=\"row_heading level0 row2\" >2</th>\n",
       "      <td id=\"T_143e3_row2_col0\" class=\"data row2 col0\" >BNGA.JK</td>\n",
       "      <td id=\"T_143e3_row2_col1\" class=\"data row2 col1\" >1590</td>\n",
       "      <td id=\"T_143e3_row2_col2\" class=\"data row2 col2\" >1660</td>\n",
       "      <td id=\"T_143e3_row2_col3\" class=\"data row2 col3\" >1735</td>\n",
       "      <td id=\"T_143e3_row2_col4\" class=\"data row2 col4\" >9.12</td>\n",
       "      <td id=\"T_143e3_row2_col5\" class=\"data row2 col5\" >4.52</td>\n",
       "    </tr>\n",
       "    <tr>\n",
       "      <th id=\"T_143e3_level0_row3\" class=\"row_heading level0 row3\" >3</th>\n",
       "      <td id=\"T_143e3_row3_col0\" class=\"data row3 col0\" >NISP.JK</td>\n",
       "      <td id=\"T_143e3_row3_col1\" class=\"data row3 col1\" >1220</td>\n",
       "      <td id=\"T_143e3_row3_col2\" class=\"data row3 col2\" >1305</td>\n",
       "      <td id=\"T_143e3_row3_col3\" class=\"data row3 col3\" >1390</td>\n",
       "      <td id=\"T_143e3_row3_col4\" class=\"data row3 col4\" >13.93</td>\n",
       "      <td id=\"T_143e3_row3_col5\" class=\"data row3 col5\" >6.51</td>\n",
       "    </tr>\n",
       "    <tr>\n",
       "      <th id=\"T_143e3_level0_row4\" class=\"row_heading level0 row4\" >4</th>\n",
       "      <td id=\"T_143e3_row4_col0\" class=\"data row4 col0\" >PNLF.JK</td>\n",
       "      <td id=\"T_143e3_row4_col1\" class=\"data row4 col1\" >252</td>\n",
       "      <td id=\"T_143e3_row4_col2\" class=\"data row4 col2\" >252</td>\n",
       "      <td id=\"T_143e3_row4_col3\" class=\"data row4 col3\" >256</td>\n",
       "      <td id=\"T_143e3_row4_col4\" class=\"data row4 col4\" >1.59</td>\n",
       "      <td id=\"T_143e3_row4_col5\" class=\"data row4 col5\" >1.59</td>\n",
       "    </tr>\n",
       "  </tbody>\n",
       "</table>\n"
      ],
      "text/plain": [
       "<pandas.io.formats.style.Styler at 0x10f41b610>"
      ]
     },
     "execution_count": 5,
     "metadata": {},
     "output_type": "execute_result"
    }
   ],
   "source": [
    "list_B = [\"BBTN.JK\", \"BRIS.JK\", \"BNGA.JK\", \"NISP.JK\", \"PNLF.JK\"]\n",
    "base_B = [770, 2040, 1590, 1220, 252]\n",
    "support_B = [1080, 2410, 1660, 1305, 252]\n",
    "\n",
    "stocks_B = analyze_stocks_realtime(list_B, base_B, support_B)\n",
    "stocks_B"
   ]
  },
  {
   "cell_type": "markdown",
   "id": "f7f04033",
   "metadata": {},
   "source": [
    "### Digital Banks"
   ]
  },
  {
   "cell_type": "code",
   "execution_count": 6,
   "id": "1eb2c1fb",
   "metadata": {},
   "outputs": [
    {
     "data": {
      "text/html": [
       "<style type=\"text/css\">\n",
       "#T_d99c6_row0_col4, #T_d99c6_row0_col5, #T_d99c6_row1_col4, #T_d99c6_row1_col5 {\n",
       "  color: green;\n",
       "}\n",
       "</style>\n",
       "<table id=\"T_d99c6\">\n",
       "  <thead>\n",
       "    <tr>\n",
       "      <th class=\"blank level0\" >&nbsp;</th>\n",
       "      <th id=\"T_d99c6_level0_col0\" class=\"col_heading level0 col0\" >Stock</th>\n",
       "      <th id=\"T_d99c6_level0_col1\" class=\"col_heading level0 col1\" >Base</th>\n",
       "      <th id=\"T_d99c6_level0_col2\" class=\"col_heading level0 col2\" >Support</th>\n",
       "      <th id=\"T_d99c6_level0_col3\" class=\"col_heading level0 col3\" >Last Price</th>\n",
       "      <th id=\"T_d99c6_level0_col4\" class=\"col_heading level0 col4\" >Change from Base (%)</th>\n",
       "      <th id=\"T_d99c6_level0_col5\" class=\"col_heading level0 col5\" >Change from Support (%)</th>\n",
       "    </tr>\n",
       "  </thead>\n",
       "  <tbody>\n",
       "    <tr>\n",
       "      <th id=\"T_d99c6_level0_row0\" class=\"row_heading level0 row0\" >0</th>\n",
       "      <td id=\"T_d99c6_row0_col0\" class=\"data row0 col0\" >ARTO.JK</td>\n",
       "      <td id=\"T_d99c6_row0_col1\" class=\"data row0 col1\" >1250</td>\n",
       "      <td id=\"T_d99c6_row0_col2\" class=\"data row0 col2\" >1590</td>\n",
       "      <td id=\"T_d99c6_row0_col3\" class=\"data row0 col3\" >2210</td>\n",
       "      <td id=\"T_d99c6_row0_col4\" class=\"data row0 col4\" >76.80</td>\n",
       "      <td id=\"T_d99c6_row0_col5\" class=\"data row0 col5\" >38.99</td>\n",
       "    </tr>\n",
       "    <tr>\n",
       "      <th id=\"T_d99c6_level0_row1\" class=\"row_heading level0 row1\" >1</th>\n",
       "      <td id=\"T_d99c6_row1_col0\" class=\"data row1 col0\" >BBYB.JK</td>\n",
       "      <td id=\"T_d99c6_row1_col1\" class=\"data row1 col1\" >156</td>\n",
       "      <td id=\"T_d99c6_row1_col2\" class=\"data row1 col2\" >206</td>\n",
       "      <td id=\"T_d99c6_row1_col3\" class=\"data row1 col3\" >344</td>\n",
       "      <td id=\"T_d99c6_row1_col4\" class=\"data row1 col4\" >120.51</td>\n",
       "      <td id=\"T_d99c6_row1_col5\" class=\"data row1 col5\" >66.99</td>\n",
       "    </tr>\n",
       "  </tbody>\n",
       "</table>\n"
      ],
      "text/plain": [
       "<pandas.io.formats.style.Styler at 0x10f528410>"
      ]
     },
     "execution_count": 6,
     "metadata": {},
     "output_type": "execute_result"
    }
   ],
   "source": [
    "list_C = [\"ARTO.JK\", \"BBYB.JK\"]\n",
    "base_C = [1250, 156]\n",
    "support_C = [1590, 206]\n",
    "\n",
    "stocks_C = analyze_stocks_realtime(list_C, base_C, support_C)\n",
    "stocks_C"
   ]
  }
 ],
 "metadata": {
  "kernelspec": {
   "display_name": "pacmann",
   "language": "python",
   "name": "python3"
  },
  "language_info": {
   "codemirror_mode": {
    "name": "ipython",
    "version": 3
   },
   "file_extension": ".py",
   "mimetype": "text/x-python",
   "name": "python",
   "nbconvert_exporter": "python",
   "pygments_lexer": "ipython3",
   "version": "3.13.5"
  }
 },
 "nbformat": 4,
 "nbformat_minor": 5
}
